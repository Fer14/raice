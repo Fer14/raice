{
 "cells": [
  {
   "cell_type": "markdown",
   "metadata": {},
   "source": [
    "# 🇧🇭 Bahrein"
   ]
  },
  {
   "cell_type": "markdown",
   "metadata": {},
   "source": [
    " <video width=\"1080px\"  controls=\"controls\">\n",
    "<source src= \"./videos/bahrein.mp4\" \n",
    "                type=\"video/mp4\" />\n",
    "</video>"
   ]
  },
  {
   "cell_type": "markdown",
   "metadata": {},
   "source": []
  }
 ],
 "metadata": {
  "language_info": {
   "name": "python"
  }
 },
 "nbformat": 4,
 "nbformat_minor": 2
}
