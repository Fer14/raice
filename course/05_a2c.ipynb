{
 "cells": [
  {
   "cell_type": "markdown",
   "metadata": {},
   "source": [
    "# A2C (Advantage Actor-Critic)"
   ]
  },
  {
   "cell_type": "markdown",
   "metadata": {},
   "source": [
    "![Alt text](../a2c/car.png)"
   ]
  },
  {
   "cell_type": "markdown",
   "metadata": {},
   "source": [
    "In this lesson, we will explore the Advantage Actor-Critic (A2C) algorithm, a popular method that combines the strengths of policy-based and value-based reinforcement learning techniques. While there are both synchronous and asynchronous versions of A2C, in this lesson, we will focus on the core concepts and implement A2C using a single agent interacting with the environment. This will help us understand how the core idea works without getting into the parallelism or technicalities of synchronization.\n",
    "\n",
    "A2C improves upon vanilla Policy Gradient methods by incorporating the value function to reduce variance during training and accelerate learning. Let’s explore the details of how A2C works."
   ]
  },
  {
   "cell_type": "markdown",
   "metadata": {},
   "source": [
    "## Actor-Critic Overview"
   ]
  },
  {
   "cell_type": "markdown",
   "metadata": {},
   "source": [
    "In Actor-Critic (AC) methods, the agent consists of two primary components:\n",
    "\n",
    "- Actor: This is the policy function $π(a∣s)$, which maps states to actions. The actor is responsible for deciding which action to take in a given state.\n",
    "\n",
    "- Critic: This is the value function $V(s)$ or the Q-value function $Q(s,a)$, which evaluates the quality of the actions chosen by the actor. It helps the actor improve by providing feedback on how good the chosen actions were in terms of expected rewards.\n",
    "\n"
   ]
  },
  {
   "cell_type": "markdown",
   "metadata": {},
   "source": [
    "## The Advantage Function"
   ]
  },
  {
   "cell_type": "markdown",
   "metadata": {},
   "source": [
    "The key idea behind A2C is the advantage function, which tells the agent how much better (or worse) a particular action is compared to the average action in a given state.\n",
    "\n",
    "Mathematically, the advantage function is defined as:\n",
    "\n",
    "$$A(s,a)=Q(s,a)−V(s)$$\n",
    "\n",
    "Where:\n",
    "\n",
    "- $Q(s,a)$ is the expected return (cumulative reward) after taking action $a$ in state $s$,\n",
    "- $V(s)$ is the expected return from state $s$ under the current policy.\n",
    "\n",
    "The advantage quantifies how much better or worse the selected action $a$ is compared to the average action the agent could take in state $s$.\n",
    "\n",
    "### Why Use Advantage?\n",
    "\n",
    "Using the advantage function helps reduce the variance in policy gradient updates. Instead of just updating based on rewards (as in vanilla Policy Gradient methods), the advantage provides a more stable target for updating the actor (policy), leading to more reliable learning."
   ]
  },
  {
   "cell_type": "markdown",
   "metadata": {},
   "source": [
    "## A2C Algorithm"
   ]
  },
  {
   "cell_type": "markdown",
   "metadata": {},
   "source": [
    "The A2C process involves:\n",
    "\n",
    "1. Actor Loss (Policy Gradient)\n",
    "\n",
    "The goal of the actor is to maximize the expected return by adjusting the policy to favor actions that lead to higher rewards. The policy gradient is calculated using the advantage function $A(s,a)$:\n",
    "\n",
    "$$\n",
    "Actor Loss=−log⁡π(a∣s)A(s,a)\n",
    "$$\n",
    "\n",
    "Where:\n",
    "\n",
    "- $logπ(a∣s)$ is the log probability of taking action aa in state ss under the current policy.\n",
    "- $A(s,a)$ is the advantage, indicating how much better or worse this action was compared to the baseline.\n",
    "\n",
    "2. Critic Loss (Value Function)\n",
    "\n",
    "The critic helps by estimating the value of states. The critic's goal is to minimize the mean squared error (MSE) between the predicted value and the actual return (bootstrapped from future rewards):\n",
    "\n",
    "$$\n",
    "Critic Loss=(r+γV(s′)−V(s))2\n",
    "$$\n",
    "\n",
    "Where:\n",
    "\n",
    "- $r$ is the reward received from the environment,\n",
    "- $γ$ is the discount factor,\n",
    "- $V(s)$ is the value estimate for the current state,\n",
    "- $V(s′)$ is the value estimate for the next state.\n",
    "\n",
    "3. Total Loss\n",
    "\n",
    "The total loss is a combination of the actor loss and the critic loss, with an optional entropy bonus to encourage exploration:\n",
    "\n",
    "$$\n",
    "Total Loss=Actor Loss+c1Critic Loss−c2Entropy Bonus\n",
    "$$\n",
    "\n",
    "\n",
    "Here:\n",
    "\n",
    "- $c1$​ and $c2$​ are hyperparameters that control the contribution of the critic loss and entropy bonus.\n",
    "- The entropy bonus encourages the policy to explore more by penalizing highly confident actions (i.e., encouraging more exploration early in training)."
   ]
  },
  {
   "cell_type": "markdown",
   "metadata": {},
   "source": [
    "## Key Components of A2C"
   ]
  },
  {
   "cell_type": "markdown",
   "metadata": {},
   "source": [
    "### Advantage Function"
   ]
  },
  {
   "cell_type": "markdown",
   "metadata": {},
   "source": [
    "Unlike Q-learning and SARSA, which directly estimate the action-value function $Q(s,a)$, A2C uses the Advantage Function to capture how much better an action is compared to the baseline (i.e., the value of the current state).\n",
    "\n",
    "The advantage is calculated as:\n",
    "\n",
    "$$\n",
    "A(s,a)≈r+γV(s′)−V(s)\n",
    "$$\n",
    "\n",
    "This difference between the expected value and the observed return helps stabilize the updates and reduces variance in the gradient estimates."
   ]
  },
  {
   "cell_type": "markdown",
   "metadata": {},
   "source": [
    "## The A2C Process"
   ]
  },
  {
   "cell_type": "markdown",
   "metadata": {},
   "source": [
    "1. Initialize the Actor and Critic Networks\n",
    "\n",
    "    Start by initializing two neural networks:\n",
    "\n",
    "    - The actor network to approximate the policy $πθ​(a∣s)$,\n",
    "    - The critic network to estimate the value function $V(s)$.\n",
    "\n",
    "2. Interact with the Environment\n",
    "\n",
    "    At each time step, the agent:\n",
    "\n",
    "    - Observes the current state ss,\n",
    "    - Chooses an action aa according to the policy from the actor,\n",
    "    - Executes the action, observes the reward $r$ and the next state $s′$.\n",
    "\n",
    "3. Compute the Advantage\n",
    "\n",
    "    Once the reward $r$ and the next state $s′$ are known, the advantage is computed as:\n",
    "\n",
    "    $$A(s,a)=r+γV(s′)−V(s)$$\n",
    "\n",
    "4. Update the Networks\n",
    "\n",
    "    - Actor Update: Adjust the policy (actor) using the policy gradient and the advantage function.\n",
    "    - Critic Update: Minimize the TD error to improve the value estimates.\n",
    "\n",
    "5. Repeat the process for multiple episodes, allowing the agent to refine its policy and value estimates over time."
   ]
  },
  {
   "cell_type": "markdown",
   "metadata": {},
   "source": [
    "## Coding A2C"
   ]
  },
  {
   "cell_type": "code",
   "execution_count": 8,
   "metadata": {},
   "outputs": [],
   "source": [
    "from torch import nn\n",
    "import torch\n",
    "\n",
    "\n",
    "class ActorCritic(nn.Module):\n",
    "    def __init__(self, input_size, hidden_size, output_size):\n",
    "        super(ActorCritic, self).__init__()\n",
    "        self.shared = nn.Sequential(nn.Linear(input_size, hidden_size), nn.ReLU())\n",
    "        self.actor = nn.Sequential(\n",
    "            nn.Linear(hidden_size, output_size), nn.Softmax(dim=-1)\n",
    "        )\n",
    "        self.critic = nn.Linear(hidden_size, 1)\n",
    "\n",
    "    def forward(self, x):\n",
    "        shared = self.shared(x)\n",
    "        return self.actor(shared), self.critic(shared)\n",
    "\n",
    "\n",
    "class A2Car():\n",
    "\n",
    "    def __init__(self, input_size, hidden_size, output_size):\n",
    "\n",
    "        self.model = ActorCritic(input_size, hidden_size, output_size)\n",
    "\n",
    "\n",
    "    def select_action(self, state):\n",
    "        state = torch.FloatTensor(state).unsqueeze(0).to(self.device)\n",
    "        probs, value = self.model(state)\n",
    "        m = torch.distributions.Categorical(probs)\n",
    "        action = m.sample()\n",
    "        log_prob = m.log_prob(action)\n",
    "        entropy = m.entropy()\n",
    "\n",
    "        self.log_probs.append(log_prob)\n",
    "        self.values.append(value)\n",
    "        self.entropies.append(entropy)\n",
    "\n",
    "        return action.item()\n",
    "    \n",
    "    def action_train(self, state):\n",
    "\n",
    "        action = self.select_action(state)\n",
    "\n",
    "        if action == 0:\n",
    "            self.angle += 10  # Left\n",
    "        elif action == 1:\n",
    "            self.angle -= 10  # Right\n",
    "        elif action == 2:\n",
    "            if self.speed - 2 >= 6:\n",
    "                self.speed -= 2  # Slow Down\n",
    "        else:\n",
    "            self.speed += 2  # Speed Up\n",
    "\n",
    "\n",
    "    def train(self):\n",
    "        returns = []\n",
    "        R = 0\n",
    "        for reward in self.rewards[::-1]:\n",
    "            R = reward + self.discount_factor * R\n",
    "            returns.insert(0, R)\n",
    "\n",
    "        returns = torch.tensor(returns).to(self.device)\n",
    "        log_probs = torch.stack(self.log_probs)\n",
    "        values = torch.stack(self.values).squeeze()\n",
    "        entropies = torch.stack(self.entropies)\n",
    "\n",
    "        advantages = returns - values.detach()\n",
    "\n",
    "        actor_loss = -(log_probs * advantages.detach()).mean()\n",
    "        critic_loss = advantages.pow(2).mean()\n",
    "        entropy_loss = -entropies.mean()\n",
    "\n",
    "        loss = actor_loss + self.critic_weight * critic_loss + self.entropy_weight * entropy_loss\n",
    "\n",
    "        self.optimizer.zero_grad()\n",
    "        loss.backward()\n",
    "        self.optimizer.step()\n",
    "\n",
    "        self.reset_episode()\n",
    "\n",
    "        return loss.item()"
   ]
  },
  {
   "cell_type": "code",
   "execution_count": 9,
   "metadata": {},
   "outputs": [],
   "source": [
    "class A2CRace():\n",
    "\n",
    "    def training_race(self, car: A2Car, episodes, train_every):\n",
    "\n",
    "\n",
    "        for episode in range(1, episodes + 1):\n",
    "            car.reset_episode()\n",
    "            current_state = car.get_data()\n",
    "\n",
    "            done = False\n",
    "            episode_reward = 0\n",
    "            while not done:\n",
    "\n",
    "                car.action_train(current_state)\n",
    "                new_state, reward, done = self.step(car)\n",
    "                car.rewards.append(reward)\n",
    "                episode_reward += reward\n",
    "\n",
    "                current_state = new_state\n",
    "\n",
    "            loss = car.train()\n"
   ]
  },
  {
   "cell_type": "markdown",
   "metadata": {},
   "source": [
    "## Actual training"
   ]
  },
  {
   "cell_type": "markdown",
   "metadata": {},
   "source": [
    "[INSERT VIDEO OF THE ACTUAL TRAINING]"
   ]
  },
  {
   "cell_type": "code",
   "execution_count": null,
   "metadata": {},
   "outputs": [],
   "source": []
  }
 ],
 "metadata": {
  "kernelspec": {
   "display_name": "raice",
   "language": "python",
   "name": "python3"
  },
  "language_info": {
   "codemirror_mode": {
    "name": "ipython",
    "version": 3
   },
   "file_extension": ".py",
   "mimetype": "text/x-python",
   "name": "python",
   "nbconvert_exporter": "python",
   "pygments_lexer": "ipython3",
   "version": "3.10.0"
  }
 },
 "nbformat": 4,
 "nbformat_minor": 2
}
