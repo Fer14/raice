{
 "cells": [
  {
   "cell_type": "markdown",
   "metadata": {},
   "source": [
    "# NEAT (NeuroEvolution of Augmenting Topologies)"
   ]
  },
  {
   "cell_type": "markdown",
   "metadata": {},
   "source": [
    "![Alt text](../neat_/car.png)"
   ]
  },
  {
   "cell_type": "markdown",
   "metadata": {},
   "source": [
    "In this lesson, we'll explore NEAT (NeuroEvolution of Augmenting Topologies), an evolutionary algorithm for generating artificial neural networks. Unlike traditional reinforcement learning methods that update a single network, NEAT evolves a population of networks over time, combining the principles of genetic algorithms with neural network optimization."
   ]
  },
  {
   "cell_type": "markdown",
   "metadata": {},
   "source": [
    "## Overview of NEAT"
   ]
  },
  {
   "cell_type": "markdown",
   "metadata": {},
   "source": [
    "NEAT is a genetic algorithm that evolves both the topology and the weights of neural networks. It starts with simple networks and gradually adds complexity, allowing it to find a balance between network performance and complexity. This approach can be particularly effective for reinforcement learning tasks where the optimal network structure is not known in advance."
   ]
  },
  {
   "cell_type": "markdown",
   "metadata": {},
   "source": [
    "Key features of NEAT include:\n",
    "\n",
    "- Direct encoding of network topologies\n",
    "- Speciation to protect innovation\n",
    "- Historical markings to enable crossover between different topologies"
   ]
  },
  {
   "cell_type": "markdown",
   "metadata": {},
   "source": [
    "## The NEAT Process"
   ]
  },
  {
   "cell_type": "markdown",
   "metadata": {},
   "source": [
    "\n",
    "The NEAT algorithm follows these main steps:\n",
    "\n",
    "1. Initialize Population: Create a population of simple neural networks with random weights.\n",
    "2. Evaluate Fitness: Run each network through the environment and calculate its fitness based on performance.\n",
    "3. Speciation: Divide the population into species based on topological similarities.\n",
    "4. Selection: Select the fittest individuals from each species to reproduce.\n",
    "5. Reproduction: Create offspring through mutation and crossover:\n",
    "\n",
    "    - Mutation: Add/remove nodes or connections, or modify weights\n",
    "    - Crossover: Combine genes from two parent networks\n",
    "\n",
    "\n",
    "6. Replace: Replace the old population with the new offspring.\n",
    "7. Repeat: Go back to step 2 and continue for many generations."
   ]
  },
  {
   "cell_type": "markdown",
   "metadata": {},
   "source": [
    "## Understanding Fitness in NEAT\n",
    "\n",
    "In the context of NEAT, fitness is a measure of how well a particular neural network (genome) performs in the given environment. It's the criterion used to determine which individuals in the population are more likely to survive and reproduce. In our car racing scenario, we will be using the same approach to define fitness as we used to define rewards in previous lessons, since they essentially serve the same purpose in this context."
   ]
  },
  {
   "cell_type": "markdown",
   "metadata": {},
   "source": [
    "## Key Concepts in NEAT\n",
    "1. Gene Encoding\n",
    "NEAT uses a direct encoding scheme where each gene represents either a node or a connection in the neural network. This allows for easy manipulation of the network structure through genetic operations.\n",
    "2. Historical Markings\n",
    "Each gene is assigned a unique historical marking when it's created. These markings are used to align genes during crossover, allowing NEAT to perform meaningful crossover between networks with different topologies.\n",
    "3. Speciation\n",
    "To protect innovation, NEAT divides the population into species based on topological similarities. This prevents newly evolved structures from being eliminated before they have a chance to optimize their weights.\n",
    "4. Complexification\n",
    "NEAT starts with minimal networks and gradually adds complexity through mutation. This allows it to find solutions in simple spaces before exploring more complex ones.\n",
    "Advantages of NEAT in Reinforcement Learning\n",
    "\n",
    "Automatic Structure Optimization: NEAT can find both the optimal network structure and weights, which is particularly useful when the best network architecture for a task is unknown.\n",
    "Diversity Preservation: Through speciation, NEAT maintains a diverse population, which can help in exploring different strategies in the reinforcement learning environment.\n",
    "Scalability: NEAT can scale from simple to complex problems as it adds complexity over time.\n",
    "No Backpropagation: As an evolutionary method, NEAT doesn't require backpropagation, which can be advantageous in certain reinforcement learning scenarios."
   ]
  },
  {
   "cell_type": "markdown",
   "metadata": {},
   "source": [
    "## Using the NEAT-Python Library\n",
    "For our implementation, we'll be using the NEAT-Python library, which provides a powerful and flexible implementation of the NEAT algorithm. You can find the documentation and installation instructions at https://neat-python.readthedocs.io/en/latest/."
   ]
  },
  {
   "cell_type": "code",
   "execution_count": 1,
   "metadata": {},
   "outputs": [],
   "source": [
    "class NeatRace():\n",
    "\n",
    "    def training_race(self, cars, genomes):\n",
    "\n",
    "        counter = 0\n",
    "\n",
    "        running = True\n",
    "        while running:\n",
    "\n",
    "            # For Each Car Get The Acton It Takes\n",
    "            for car in cars:\n",
    "                car.action_train()\n",
    "                \n",
    "            # Check If Car Is Still Alive\n",
    "            # Increase Fitness If Yes And Break Loop If Not\n",
    "            still_alive = 0\n",
    "            for i, car in enumerate(cars):\n",
    "                if car.is_alive():\n",
    "                    still_alive += 1\n",
    "                    car.update(self.game_map)\n",
    "                    genomes[i][1].fitness += car.get_reward()\n",
    "\n",
    "            if still_alive == 0:\n",
    "                break\n",
    "\n",
    "            counter += 1\n",
    "            if counter == 30 * 40:  # Stop After About 20 Seconds\n",
    "                break\n",
    "\n"
   ]
  },
  {
   "cell_type": "markdown",
   "metadata": {},
   "source": [
    "## Actual Training\n"
   ]
  },
  {
   "cell_type": "markdown",
   "metadata": {},
   "source": [
    " <video width=\"1080px\"  controls=\"controls\">\n",
    "<source src= \"./videos/neat.mp4\" \n",
    "                type=\"video/mp4\" />\n",
    "</video>"
   ]
  },
  {
   "cell_type": "markdown",
   "metadata": {},
   "source": []
  }
 ],
 "metadata": {
  "kernelspec": {
   "display_name": "raice",
   "language": "python",
   "name": "python3"
  },
  "language_info": {
   "codemirror_mode": {
    "name": "ipython",
    "version": 3
   },
   "file_extension": ".py",
   "mimetype": "text/x-python",
   "name": "python",
   "nbconvert_exporter": "python",
   "pygments_lexer": "ipython3",
   "version": "3.10.0"
  }
 },
 "nbformat": 4,
 "nbformat_minor": 2
}