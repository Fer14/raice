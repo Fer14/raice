{
 "cells": [
  {
   "cell_type": "markdown",
   "metadata": {},
   "source": [
    "# SARSA (State-Action-Reward-State-Action)"
   ]
  },
  {
   "cell_type": "markdown",
   "metadata": {},
   "source": [
    "![Alt text](../sarsa/car.png)"
   ]
  },
  {
   "cell_type": "markdown",
   "metadata": {},
   "source": [
    "In this lesson, we’ll explore SARSA, a value-based reinforcement learning algorithm that is closely related to Q-Learning. However, unlike Q-learning, SARSA is an on-policy algorithm. This means that the Q-value updates are based on the actions the agent actually chooses, rather than the maximum possible action in the next state.\n"
   ]
  },
  {
   "cell_type": "markdown",
   "metadata": {},
   "source": [
    "## The Q-Value Function in SARSA"
   ]
  },
  {
   "cell_type": "markdown",
   "metadata": {},
   "source": [
    "Similar to Q-learning, SARSA aims to learn the Q-value, $Q(s,a)$, which is the expected cumulative reward starting from state $s$, taking action $a$, and following the current policy.\n",
    "\n",
    "The key update equation for SARSA is:\n",
    "\n",
    "$$\n",
    "Q(s,a)←Q(s,a)+α[r+γQ(s′,a′)−Q(s,a)]\n",
    "$$\n",
    "\n",
    "Here:\n",
    "\n",
    "- $α$ is the learning rate, controlling how much we update the Q-value,\n",
    "- $r$ is the reward received after taking action $a$ in state $s$,\n",
    "- $s′$ is the next state,\n",
    "- $a′$ is the action taken in the next state $s′$ according to the policy,\n",
    "- $γ$ is the discount factor, balancing immediate vs. future rewards.\n",
    "\n",
    "In simpler terms, SARSA updates the Q-value based on the actual action taken in the next state, following the current policy."
   ]
  },
  {
   "cell_type": "markdown",
   "metadata": {},
   "source": [
    "## Temporal Difference Learning in SARSA"
   ]
  },
  {
   "cell_type": "markdown",
   "metadata": {},
   "source": [
    "Similar to Q-learning, SARSA relies on Temporal Difference (TD) Learning, that is, learning without having to wait for the episode to finnish, but with the difference that SARSA is on-policy. The TD target in SARSA is:\n",
    "\n",
    "$$\n",
    "TD target=r+γQ(s′,a′)\n",
    "$$\n",
    "\n",
    "The TD error, which drives the update, is:\n",
    "\n",
    "$$\n",
    "TD error=[r+γQ(s′,a′)−Q(s,a)]\n",
    "$$\n",
    "\n",
    "\n",
    "Again, unlike Q-learning which uses the max Q-value for the next state, SARSA uses the Q-value of the action actually taken by the agent in state $s′$."
   ]
  },
  {
   "cell_type": "markdown",
   "metadata": {},
   "source": [
    "## The SARSA Process"
   ]
  },
  {
   "cell_type": "markdown",
   "metadata": {},
   "source": [
    "The SARSA algorithm works similarly to Q-learning but updates the Q-values using the actions that the agent actually performs. The process follows these steps:\n",
    "\n",
    "1. Initialize Q-values: Start by initializing the Q-table (or function) for all state-action pairs arbitrarily (often to zeros).\n",
    "\n",
    "2. For each episode and each step:\n",
    "    - Observe the current state $s$,\n",
    "    - Choose an action aa using an exploration strategy like epsilon-greedy:\n",
    "        With probability ϵϵ, choose a random action (exploration),\n",
    "        Otherwise, choose the action with the highest Q-value (exploitation),\n",
    "    - Execute action $a$, observe the reward $r$, and the next state $s′$,\n",
    "    - Choose the next action $a′$ based on the current policy (this is the key difference from Q-learning),\n",
    "    - Update the Q-value for $(s,a)$ using the SARSA update rule:\n",
    "    \n",
    "    $$\n",
    "    Q(s,a)←Q(s,a)+α[r+γQ(s′,a′)−Q(s,a)]\n",
    "    $$\n",
    "    \n",
    "    - Set the current state to $s′$, and the current action to $a′$, and repeat until the episode ends.\n",
    "\n",
    "4. Repeat for many episodes: Over time, the Q-values should converge, and the agent will learn the best actions to take under the current policy."
   ]
  },
  {
   "cell_type": "markdown",
   "metadata": {},
   "source": [
    "## Epsilon-Greedy Exploration in SARSA"
   ]
  },
  {
   "cell_type": "markdown",
   "metadata": {},
   "source": [
    "Like Q-learning, SARSA also uses the epsilon-greedy exploration strategy to balance exploration and exploitation. With probability ϵϵ, the agent chooses a random action, and with probability 1−ϵ1−ϵ, it chooses the action that has the highest Q-value according to the current policy."
   ]
  },
  {
   "cell_type": "markdown",
   "metadata": {},
   "source": [
    "## Coding SARSA"
   ]
  },
  {
   "cell_type": "code",
   "execution_count": 1,
   "metadata": {},
   "outputs": [],
   "source": [
    "import torch\n",
    "import numpy as np\n",
    "from torch import nn\n",
    "\n",
    "class SARSACar():\n",
    "\n",
    "    def __init__(self,):\n",
    "\n",
    "        self.model = self.create_model() # 1. Intiliaze Q values\n",
    "\n",
    "    def act_epsilon_greedy(self, state):\n",
    "        state = torch.tensor(state, dtype=torch.float32).to(self.device)\n",
    "        if np.random.random() < self.epsilon:\n",
    "            return np.random.randint(0, self.output_size)\n",
    "        else:\n",
    "            return int(np.argmax(self.get_qs(state)))\n",
    "        \n",
    "    def action_train(self, state):\n",
    "\n",
    "        action = self.act_epsilon_greedy(state)\n",
    "\n",
    "        if action == 0:\n",
    "            self.angle += 10  # Left\n",
    "        elif action == 1:\n",
    "            self.angle -= 10  # Right\n",
    "        elif action == 2:\n",
    "            if self.speed - 2 >= 6:\n",
    "                self.speed -= 2  # Slow Down\n",
    "        else:\n",
    "            self.speed += 2  # Speed Up\n",
    "\n",
    "        return action\n",
    "    \n",
    "\n",
    "    def train(self, state, action, reward, new_state, done):\n",
    "\n",
    "\n",
    "        state_tensor = (\n",
    "            torch.tensor(np.array(state), dtype=torch.float32)\n",
    "            .unsqueeze(0)\n",
    "            .to(self.device)\n",
    "        ) \n",
    "        new_state_tensor = (\n",
    "            torch.tensor(np.array(new_state), dtype=torch.float32)\n",
    "            .unsqueeze(0)\n",
    "            .to(self.device)\n",
    "        )\n",
    "\n",
    "        # Get the Q-value for the current state-action pair\n",
    "        current_q_values = self.model(state_tensor)  \n",
    "        current_q_value = current_q_values.gather(\n",
    "            1, torch.tensor([[action]], dtype=torch.long).to(self.device)\n",
    "        ) \n",
    "        current_q_value = current_q_value.squeeze(1)  \n",
    "\n",
    "        # If the episode is done, next_q_value should be 0\n",
    "        if done:\n",
    "            next_q_value = torch.tensor([0.0], dtype=torch.float32).to(self.device)\n",
    "        else:\n",
    "            # Get the next action using the epsilon-greedy policy for SARSA\n",
    "            next_action = self.act_epsilon_greedy(new_state)\n",
    "            next_q_values = self.model(new_state_tensor)  \n",
    "            next_q_value = next_q_values.gather(\n",
    "                1, torch.tensor([[next_action]], dtype=torch.long).to(self.device)\n",
    "            )  \n",
    "            next_q_value = next_q_value.squeeze(1) \n",
    "\n",
    "        # Compute the target Q-value using the SARSA update rule\n",
    "        target_q_value = (\n",
    "            torch.tensor([reward], dtype=torch.float32).to(self.device)\n",
    "            + self.discount_factor * next_q_value\n",
    "        )\n",
    "\n",
    "        # Calculate the loss between the current Q-value and target Q-value\n",
    "        loss = nn.MSELoss()(current_q_value, target_q_value)\n",
    "\n",
    "        # Backpropagation\n",
    "        self.optimizer.zero_grad()\n",
    "        loss.backward()\n",
    "        self.optimizer.step()\n",
    "\n",
    "        # Decay epsilon for exploration-exploitation tradeoff\n",
    "        self.epsilon_decay()\n",
    "\n",
    "        return loss.item()"
   ]
  },
  {
   "cell_type": "code",
   "execution_count": 2,
   "metadata": {},
   "outputs": [],
   "source": [
    "class SARSARace():\n",
    "\n",
    "    def training_race(self, car: SARSACar, episodes):\n",
    "\n",
    "        for episode in range(1, episodes + 1): #2. For each episode \n",
    "\n",
    "            current_state = car.get_data() # Observe the current state\n",
    "            done = False\n",
    "            episode_reward = 0\n",
    "            while not done:\n",
    "\n",
    "                action = car.action_train(current_state) # Choose an action and execute it\n",
    "                new_state, reward, done = self.step(car) # Observe the new state\n",
    "                episode_reward += reward\n",
    "\n",
    "                next_action = car.act_epsilon_greedy(new_state)\n",
    "                loss = car.train(current_state, action, reward, new_state, done) #Update the Q-values\n",
    "\n",
    "                current_state = new_state\n",
    "                action = next_action\n",
    "                \n",
    "\n"
   ]
  },
  {
   "cell_type": "markdown",
   "metadata": {},
   "source": [
    "## Actual training"
   ]
  },
  {
   "cell_type": "markdown",
   "metadata": {},
   "source": [
    "[INSERT VIDEO OF THE ACTUAL TRAINING]"
   ]
  }
 ],
 "metadata": {
  "kernelspec": {
   "display_name": "raice",
   "language": "python",
   "name": "python3"
  },
  "language_info": {
   "codemirror_mode": {
    "name": "ipython",
    "version": 3
   },
   "file_extension": ".py",
   "mimetype": "text/x-python",
   "name": "python",
   "nbconvert_exporter": "python",
   "pygments_lexer": "ipython3",
   "version": "3.10.0"
  }
 },
 "nbformat": 4,
 "nbformat_minor": 2
}