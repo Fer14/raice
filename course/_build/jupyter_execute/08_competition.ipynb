{
 "cells": [
  {
   "cell_type": "markdown",
   "metadata": {},
   "source": [
    "# Bahrein"
   ]
  },
  {
   "cell_type": "markdown",
   "metadata": {},
   "source": [
    " <video width=\"1080px\"  controls=\"controls\">\n",
    "<source src= \"./videos/bahrein.mp4\" \n",
    "                type=\"video/mp4\" />\n",
    "</video>"
   ]
  }
 ],
 "metadata": {
  "language_info": {
   "codemirror_mode": {
    "name": "ipython",
    "version": 3
   },
   "file_extension": ".py",
   "mimetype": "text/x-python",
   "name": "python",
   "nbconvert_exporter": "python",
   "pygments_lexer": "ipython3",
   "version": "3.10.0"
  }
 },
 "nbformat": 4,
 "nbformat_minor": 2
}