{
 "cells": [
  {
   "cell_type": "markdown",
   "metadata": {},
   "source": [
    "# Welcome to RAICE!\n",
    "![Alt text](../logos/small.png)"
   ]
  },
  {
   "cell_type": "markdown",
   "metadata": {},
   "source": [
    "In this course, you will embark on an exciting journey to understand the fundamentals of Reinforcement Learning, one of the core techniques in Artificial Intelligence (AI). Unlike traditional machine learning methods, RL focuses on training agents that learn to make decisions by interacting with an environment, receiving feedback in the form of rewards or penalties, and optimizing their strategies to achieve long-term goals.\n",
    "\n",
    "-In this case, the environment is an **F1 track**, and the algorithms will represent **cars** that will compete with each other. Each car (agent) will need to learn how to navigate the track as efficiently as possible, optimizing for speed while avoiding obstacles and staying within the boundaries of the track. \n",
    "\n",
    "The agents will receive feedback in the form of **rewards**—positive rewards for making progress (e.g., completing laps quickly) and negative rewards (penalties) for mistakes such as going off-track or colliding with other cars. \n",
    "\n",
    "The goal for each agent is to **learn an optimal driving strategy** through trial and error, balancing between **aggressive driving** (exploitation) to win races and **safe exploration** to improve their performance over time.\n",
    "\n",
    "Over the course of the competition, the cars will use reinforcement learning algorithms to adjust their driving behavior based on past experiences, ultimately evolving into more sophisticated race strategies as they adapt to the dynamics of the F1 track.\n"
   ]
  },
  {
   "cell_type": "markdown",
   "metadata": {
    "vscode": {
     "languageId": "plaintext"
    }
   },
   "source": [
    "---\n",
    "\n",
    "## What You Will Learn:\n",
    "\n",
    "- **Basic Concepts**: Gain an understanding of key RL principles like agents, states, actions, rewards, and environments.\n",
    "- **Value-based Methods**: Explore algorithms like **Q-Learning** and **SARSA** that focus on finding the best action to take in each state.\n",
    "- **Policy-based Methods**: Understand techniques like **Policy Gradient**, where the agent directly learns an optimal policy.\n",
    "- **Exploration vs. Exploitation**: Learn how agents balance exploring new strategies and exploiting known good ones.\n",
    "- **Deep Reinforcement Learning**: Delve into how deep learning and RL combine to solve more complex problems.\n",
    "- **(Optional) Genetic Algorithms**: Study how evolutionary techniques like genetic algorithms can be applied to optimize RL agents by mimicking natural selection, evolving better policies over generations.\n",
    "\n"
   ]
  },
  {
   "cell_type": "markdown",
   "metadata": {
    "vscode": {
     "languageId": "plaintext"
    }
   },
   "source": [
    "\n",
    "---\n",
    "\n",
    "## Course Structure:\n",
    "\n",
    "\n",
    "Each algorithm will be accompanied by a detailed **explanation of the underlying theory** and **step-by-step implementation in Python**. You will not only learn how the algorithm works conceptually but also gain hands-on experience coding it. Through this, you'll be able to see how theory translates into real-world applications.\n",
    "\n",
    "- **Lectures**: Cover theoretical concepts with intuitive examples. For each algorithm, we’ll break down the key ideas, such as how agents update their knowledge, make decisions, and balance exploration and exploitation.\n",
    "  \n",
    "- **Hands-on Projects**: Implement RL algorithms from scratch and apply them to environments like gridworlds and game simulations. For each project, you'll receive a clear explanation of the algorithm, followed by the implementation in Python. This will allow you to see the code structure, test it, and experiment with different parameters.\n",
    "  \n",
    "Each project will guide you through coding an algorithm, explaining key functions, optimization techniques, and debugging tips, so by the end of the course, you'll be comfortable with both theory and coding RL solutions.\n"
   ]
  },
  {
   "cell_type": "markdown",
   "metadata": {},
   "source": [
    "\n",
    "---\n",
    "\n",
    "## Prerequisites:\n",
    "A basic understanding of math is helpful, but you can still grasp the core concepts of the algorithms without delving into the math in detail. But a basic understanding of **deep learning**, **probability**, and **Python programming** will be helpful.\n",
    "Get ready to train your first RL agents and watch them learn from their environment! Let's dive into the world of intelligent decision-making. \n"
   ]
  },
  {
   "cell_type": "markdown",
   "metadata": {
    "vscode": {
     "languageId": "plaintext"
    }
   },
   "source": [
    "| ![Alt text](../images/flag.png) | There will also be optional chapters that can be skipped if you are already familiar with the concepts or prefer to focus on the core material. |\n",
    "|----------------------------------|---------------------------------------------------------------------------------------------------------------------------------------------------------------------------------------------------------------------------|\n"
   ]
  },
  {
   "cell_type": "markdown",
   "metadata": {},
   "source": []
  }
 ],
 "metadata": {
  "language_info": {
   "name": "python"
  }
 },
 "nbformat": 4,
 "nbformat_minor": 2
}
